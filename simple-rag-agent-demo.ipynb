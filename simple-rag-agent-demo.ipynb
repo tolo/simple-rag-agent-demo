{
 "cells": [
  {
   "metadata": {},
   "cell_type": "markdown",
   "source": "# Simple RAG agent demo",
   "id": "4c9af2cedbcec94d"
  },
  {
   "metadata": {},
   "cell_type": "markdown",
   "source": [
    "## Setup\n",
    "\n",
    "### Install dependencies"
   ],
   "id": "2fcf534f63f3d850"
  },
  {
   "metadata": {
    "ExecuteTime": {
     "end_time": "2024-12-09T12:38:23.723181Z",
     "start_time": "2024-12-09T12:38:16.806601Z"
    }
   },
   "cell_type": "code",
   "source": [
    "from dataclasses import dataclass\n",
    "%pip install python-dotenv~=1.0 docarray~=0.40.0 pypdf~=5.1 --upgrade --quiet\n",
    "%pip install chromadb~=0.5.18 sentence-transformers~=3.3 lark~=1.2 --upgrade --quiet\n",
    "%pip install langchain~=0.3.7 langchain_openai~=0.2.6 langchain_community~=0.3.5 langchain-chroma~=0.1.4 --upgrade --quiet\n",
    "%pip install langgraph~=0.2.46 --upgrade --quiet\n",
    "\n",
    "# If running locally, you can do this instead:\n",
    "#%pip install -r ../requirements.txt"
   ],
   "id": "de7f94673c1cabdc",
   "outputs": [
    {
     "name": "stdout",
     "output_type": "stream",
     "text": [
      "\r\n",
      "\u001B[1m[\u001B[0m\u001B[34;49mnotice\u001B[0m\u001B[1;39;49m]\u001B[0m\u001B[39;49m A new release of pip is available: \u001B[0m\u001B[31;49m23.2.1\u001B[0m\u001B[39;49m -> \u001B[0m\u001B[32;49m24.3.1\u001B[0m\r\n",
      "\u001B[1m[\u001B[0m\u001B[34;49mnotice\u001B[0m\u001B[1;39;49m]\u001B[0m\u001B[39;49m To update, run: \u001B[0m\u001B[32;49mpip install --upgrade pip\u001B[0m\r\n",
      "Note: you may need to restart the kernel to use updated packages.\n",
      "\r\n",
      "\u001B[1m[\u001B[0m\u001B[34;49mnotice\u001B[0m\u001B[1;39;49m]\u001B[0m\u001B[39;49m A new release of pip is available: \u001B[0m\u001B[31;49m23.2.1\u001B[0m\u001B[39;49m -> \u001B[0m\u001B[32;49m24.3.1\u001B[0m\r\n",
      "\u001B[1m[\u001B[0m\u001B[34;49mnotice\u001B[0m\u001B[1;39;49m]\u001B[0m\u001B[39;49m To update, run: \u001B[0m\u001B[32;49mpip install --upgrade pip\u001B[0m\r\n",
      "Note: you may need to restart the kernel to use updated packages.\n",
      "\r\n",
      "\u001B[1m[\u001B[0m\u001B[34;49mnotice\u001B[0m\u001B[1;39;49m]\u001B[0m\u001B[39;49m A new release of pip is available: \u001B[0m\u001B[31;49m23.2.1\u001B[0m\u001B[39;49m -> \u001B[0m\u001B[32;49m24.3.1\u001B[0m\r\n",
      "\u001B[1m[\u001B[0m\u001B[34;49mnotice\u001B[0m\u001B[1;39;49m]\u001B[0m\u001B[39;49m To update, run: \u001B[0m\u001B[32;49mpip install --upgrade pip\u001B[0m\r\n",
      "Note: you may need to restart the kernel to use updated packages.\n",
      "\r\n",
      "\u001B[1m[\u001B[0m\u001B[34;49mnotice\u001B[0m\u001B[1;39;49m]\u001B[0m\u001B[39;49m A new release of pip is available: \u001B[0m\u001B[31;49m23.2.1\u001B[0m\u001B[39;49m -> \u001B[0m\u001B[32;49m24.3.1\u001B[0m\r\n",
      "\u001B[1m[\u001B[0m\u001B[34;49mnotice\u001B[0m\u001B[1;39;49m]\u001B[0m\u001B[39;49m To update, run: \u001B[0m\u001B[32;49mpip install --upgrade pip\u001B[0m\r\n",
      "Note: you may need to restart the kernel to use updated packages.\n"
     ]
    }
   ],
   "execution_count": 1
  },
  {
   "metadata": {},
   "cell_type": "markdown",
   "source": "### Load environment variables",
   "id": "3d510e51c0909d92"
  },
  {
   "metadata": {
    "ExecuteTime": {
     "end_time": "2024-12-09T12:38:23.733585Z",
     "start_time": "2024-12-09T12:38:23.726556Z"
    }
   },
   "cell_type": "code",
   "source": [
    "import os\n",
    "from dotenv import load_dotenv, find_dotenv\n",
    "_ = load_dotenv(find_dotenv())\n",
    "\n",
    "# If running in Google Colab, you can use this code instead:\n",
    "# from google.colab import userdata\n",
    "# os.environ[\"AZURE_OPENAI_API_KEY\"] = userdata.get(\"AZURE_OPENAI_API_KEY\")\n",
    "# os.environ[\"AZURE_OPENAI_ENDPOINT\"] = userdata.get(\"AZURE_OPENAI_ENDPOINT\")"
   ],
   "id": "7085d7c17c7156a5",
   "outputs": [],
   "execution_count": 2
  },
  {
   "metadata": {},
   "cell_type": "markdown",
   "source": "### Setup Chat Model",
   "id": "5b5192ae79a33f11"
  },
  {
   "metadata": {
    "ExecuteTime": {
     "end_time": "2024-12-09T12:38:24.566403Z",
     "start_time": "2024-12-09T12:38:23.819703Z"
    }
   },
   "cell_type": "code",
   "source": [
    "from langchain_openai import ChatOpenAI, OpenAIEmbeddings\n",
    "llm = ChatOpenAI(model_name=\"gpt-4o-mini\",temperature=0.0)\n",
    "embedding_model = OpenAIEmbeddings(model=\"text-embedding-3-large\")"
   ],
   "id": "8f6092d8a5ac3984",
   "outputs": [],
   "execution_count": 3
  },
  {
   "metadata": {},
   "cell_type": "markdown",
   "source": "## Setup ingestion / retrieval",
   "id": "84e945bc7bc2583e"
  },
  {
   "metadata": {},
   "cell_type": "markdown",
   "source": "### Setup vector DB (Chroma)",
   "id": "116bb16b204d989b"
  },
  {
   "metadata": {
    "ExecuteTime": {
     "end_time": "2024-12-09T12:38:25.144733Z",
     "start_time": "2024-12-09T12:38:24.570805Z"
    }
   },
   "cell_type": "code",
   "source": [
    "from langchain_chroma import Chroma\n",
    "\n",
    "persist_directory = './db/chroma/'\n",
    "vectordb: Chroma = Chroma(\n",
    "    collection_name=\"my_index\",\n",
    "    embedding_function=embedding_model,\n",
    "    persist_directory=persist_directory # Optionally persist the database\n",
    ")"
   ],
   "id": "9d222640ccefee9f",
   "outputs": [],
   "execution_count": 4
  },
  {
   "metadata": {},
   "cell_type": "markdown",
   "source": "### Setup a text splitter",
   "id": "e3a2bb279f787706"
  },
  {
   "metadata": {
    "ExecuteTime": {
     "end_time": "2024-12-09T12:38:25.156692Z",
     "start_time": "2024-12-09T12:38:25.149011Z"
    }
   },
   "cell_type": "code",
   "source": [
    "from langchain.text_splitter import RecursiveCharacterTextSplitter\n",
    "text_splitter = RecursiveCharacterTextSplitter(\n",
    "    chunk_size = 1000,\n",
    "    chunk_overlap = 80\n",
    ")"
   ],
   "id": "72bdfcbd420696d7",
   "outputs": [],
   "execution_count": 5
  },
  {
   "metadata": {},
   "cell_type": "markdown",
   "source": "### Setup documents to load",
   "id": "3ee64e2b269762e9"
  },
  {
   "metadata": {
    "ExecuteTime": {
     "end_time": "2024-12-09T12:38:25.162435Z",
     "start_time": "2024-12-09T12:38:25.160561Z"
    }
   },
   "cell_type": "code",
   "source": [
    "# Documents to load (tuple of document_id and document_url)\n",
    "\n",
    "@dataclass\n",
    "class DocInfo:\n",
    "    id: str\n",
    "    url: str\n",
    "\n",
    "documents: list[DocInfo] = [\n",
    "    DocInfo(\"1\", \"https://data.riksdagen.se/fil/85C4C51C-4FFD-4284-BDE5-37782DFD686B\"),\n",
    "]"
   ],
   "id": "b5a1319121a51e71",
   "outputs": [],
   "execution_count": 6
  },
  {
   "metadata": {},
   "cell_type": "markdown",
   "source": "### Ingest - split and add to vector index",
   "id": "6c3d3524dfc1ec9a"
  },
  {
   "metadata": {
    "ExecuteTime": {
     "end_time": "2024-12-09T12:38:38.899559Z",
     "start_time": "2024-12-09T12:38:28.407286Z"
    }
   },
   "cell_type": "code",
   "source": [
    "from langchain_community.document_loaders import PyPDFLoader\n",
    "\n",
    "def ingest_documents(doc_info: DocInfo):\n",
    "    # Check if document already exists\n",
    "    existing = vectordb.get(where={\"doc_id\": doc_info.id})\n",
    "    if existing[\"documents\"]:\n",
    "        print(f\"Document {doc_info.id} already exists in index\")\n",
    "        return\n",
    "\n",
    "    # Load\n",
    "    print(f\"Loading {doc_info.url} to index...\")\n",
    "    loader = PyPDFLoader(doc_info.url)\n",
    "    pages = loader.load()\n",
    "    for page in pages:\n",
    "        page.metadata[\"doc_id\"] = doc_info.id\n",
    "        page.metadata[\"title\"] = doc_info.title\n",
    "    # Split\n",
    "    doc_splits = text_splitter.split_documents(pages)\n",
    "\n",
    "    # Add to index\n",
    "    print(f\"Adding to {doc_info.url} to index...\")\n",
    "    vectordb.add_documents(documents=doc_splits)\n",
    "\n",
    "    print(f\"Added {doc_info.url} ({len(pages)} pages) - {len(doc_splits)} splits\")\n",
    "\n",
    "\n",
    "for doc_info in documents:\n",
    "    ingest_documents(doc_info)"
   ],
   "id": "31138108665f383",
   "outputs": [
    {
     "name": "stdout",
     "output_type": "stream",
     "text": [
      "Loading https://data.riksdagen.se/fil/85C4C51C-4FFD-4284-BDE5-37782DFD686B to index...\n",
      "Adding to https://data.riksdagen.se/fil/85C4C51C-4FFD-4284-BDE5-37782DFD686B to index...\n",
      "Added https://data.riksdagen.se/fil/85C4C51C-4FFD-4284-BDE5-37782DFD686B (137 pages) - 536 splits\n"
     ]
    }
   ],
   "execution_count": 7
  },
  {
   "metadata": {},
   "cell_type": "markdown",
   "source": "",
   "id": "fa83c677f583ec19"
  }
 ],
 "metadata": {
  "kernelspec": {
   "display_name": "Python 3",
   "language": "python",
   "name": "python3"
  },
  "language_info": {
   "codemirror_mode": {
    "name": "ipython",
    "version": 2
   },
   "file_extension": ".py",
   "mimetype": "text/x-python",
   "name": "python",
   "nbconvert_exporter": "python",
   "pygments_lexer": "ipython2",
   "version": "2.7.6"
  }
 },
 "nbformat": 4,
 "nbformat_minor": 5
}
